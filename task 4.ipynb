{
 "cells": [
  {
   "cell_type": "code",
   "execution_count": 1,
   "metadata": {},
   "outputs": [],
   "source": [
    "import pandas as pd\n",
    "import matplotlib.pyplot as plt\n",
    "import seaborn as sns"
   ]
  },
  {
   "cell_type": "code",
   "execution_count": 2,
   "metadata": {},
   "outputs": [],
   "source": [
    "data=pd.read_csv('pinterest.csv')"
   ]
  },
  {
   "cell_type": "code",
   "execution_count": 3,
   "metadata": {},
   "outputs": [
    {
     "data": {
      "text/html": [
       "<div>\n",
       "<style scoped>\n",
       "    .dataframe tbody tr th:only-of-type {\n",
       "        vertical-align: middle;\n",
       "    }\n",
       "\n",
       "    .dataframe tbody tr th {\n",
       "        vertical-align: top;\n",
       "    }\n",
       "\n",
       "    .dataframe thead th {\n",
       "        text-align: right;\n",
       "    }\n",
       "</style>\n",
       "<table border=\"1\" class=\"dataframe\">\n",
       "  <thead>\n",
       "    <tr style=\"text-align: right;\">\n",
       "      <th></th>\n",
       "      <th>id</th>\n",
       "      <th>description</th>\n",
       "      <th>title</th>\n",
       "      <th>repin_count</th>\n",
       "    </tr>\n",
       "  </thead>\n",
       "  <tbody>\n",
       "    <tr>\n",
       "      <th>0</th>\n",
       "      <td>21181060741374444</td>\n",
       "      <td></td>\n",
       "      <td>NaN</td>\n",
       "      <td>0</td>\n",
       "    </tr>\n",
       "    <tr>\n",
       "      <th>1</th>\n",
       "      <td>21181060741360357</td>\n",
       "      <td></td>\n",
       "      <td>NaN</td>\n",
       "      <td>0</td>\n",
       "    </tr>\n",
       "    <tr>\n",
       "      <th>2</th>\n",
       "      <td>21181060741360356</td>\n",
       "      <td>The Toppu Mini Bowl is part of the popular Top...</td>\n",
       "      <td>Toppu Mini Bowl in Caramel / Rose</td>\n",
       "      <td>0</td>\n",
       "    </tr>\n",
       "    <tr>\n",
       "      <th>3</th>\n",
       "      <td>21181060741360355</td>\n",
       "      <td></td>\n",
       "      <td>𐀔</td>\n",
       "      <td>0</td>\n",
       "    </tr>\n",
       "    <tr>\n",
       "      <th>4</th>\n",
       "      <td>21181060741360353</td>\n",
       "      <td></td>\n",
       "      <td>NaN</td>\n",
       "      <td>0</td>\n",
       "    </tr>\n",
       "  </tbody>\n",
       "</table>\n",
       "</div>"
      ],
      "text/plain": [
       "                  id                                        description  \\\n",
       "0  21181060741374444                                                      \n",
       "1  21181060741360357                                                      \n",
       "2  21181060741360356  The Toppu Mini Bowl is part of the popular Top...   \n",
       "3  21181060741360355                                                      \n",
       "4  21181060741360353                                                      \n",
       "\n",
       "                               title  repin_count  \n",
       "0                                NaN            0  \n",
       "1                                NaN            0  \n",
       "2  Toppu Mini Bowl in Caramel / Rose            0  \n",
       "3                                  𐀔            0  \n",
       "4                                NaN            0  "
      ]
     },
     "execution_count": 3,
     "metadata": {},
     "output_type": "execute_result"
    }
   ],
   "source": [
    "data.head()"
   ]
  },
  {
   "cell_type": "code",
   "execution_count": 4,
   "metadata": {},
   "outputs": [],
   "source": [
    "col_names=['ID', 'Entity', 'Sentiment', 'Content']\n",
    "df = pd.read_csv('pinterest.csv', names=col_names)\n"
   ]
  },
  {
   "cell_type": "code",
   "execution_count": 5,
   "metadata": {},
   "outputs": [
    {
     "data": {
      "text/html": [
       "<div>\n",
       "<style scoped>\n",
       "    .dataframe tbody tr th:only-of-type {\n",
       "        vertical-align: middle;\n",
       "    }\n",
       "\n",
       "    .dataframe tbody tr th {\n",
       "        vertical-align: top;\n",
       "    }\n",
       "\n",
       "    .dataframe thead th {\n",
       "        text-align: right;\n",
       "    }\n",
       "</style>\n",
       "<table border=\"1\" class=\"dataframe\">\n",
       "  <thead>\n",
       "    <tr style=\"text-align: right;\">\n",
       "      <th></th>\n",
       "      <th>ID</th>\n",
       "      <th>Entity</th>\n",
       "      <th>Sentiment</th>\n",
       "      <th>Content</th>\n",
       "    </tr>\n",
       "  </thead>\n",
       "  <tbody>\n",
       "    <tr>\n",
       "      <th>0</th>\n",
       "      <td>id</td>\n",
       "      <td>description</td>\n",
       "      <td>title</td>\n",
       "      <td>repin_count</td>\n",
       "    </tr>\n",
       "    <tr>\n",
       "      <th>1</th>\n",
       "      <td>21181060741374444</td>\n",
       "      <td></td>\n",
       "      <td>NaN</td>\n",
       "      <td>0</td>\n",
       "    </tr>\n",
       "    <tr>\n",
       "      <th>2</th>\n",
       "      <td>21181060741360357</td>\n",
       "      <td></td>\n",
       "      <td>NaN</td>\n",
       "      <td>0</td>\n",
       "    </tr>\n",
       "    <tr>\n",
       "      <th>3</th>\n",
       "      <td>21181060741360356</td>\n",
       "      <td>The Toppu Mini Bowl is part of the popular Top...</td>\n",
       "      <td>Toppu Mini Bowl in Caramel / Rose</td>\n",
       "      <td>0</td>\n",
       "    </tr>\n",
       "    <tr>\n",
       "      <th>4</th>\n",
       "      <td>21181060741360355</td>\n",
       "      <td></td>\n",
       "      <td>𐀔</td>\n",
       "      <td>0</td>\n",
       "    </tr>\n",
       "  </tbody>\n",
       "</table>\n",
       "</div>"
      ],
      "text/plain": [
       "                  ID                                             Entity  \\\n",
       "0                 id                                        description   \n",
       "1  21181060741374444                                                      \n",
       "2  21181060741360357                                                      \n",
       "3  21181060741360356  The Toppu Mini Bowl is part of the popular Top...   \n",
       "4  21181060741360355                                                      \n",
       "\n",
       "                           Sentiment      Content  \n",
       "0                              title  repin_count  \n",
       "1                                NaN            0  \n",
       "2                                NaN            0  \n",
       "3  Toppu Mini Bowl in Caramel / Rose            0  \n",
       "4                                  𐀔            0  "
      ]
     },
     "execution_count": 5,
     "metadata": {},
     "output_type": "execute_result"
    }
   ],
   "source": [
    "df.head()"
   ]
  },
  {
   "cell_type": "code",
   "execution_count": 6,
   "metadata": {},
   "outputs": [
    {
     "data": {
      "text/plain": [
       "(5001, 4)"
      ]
     },
     "execution_count": 6,
     "metadata": {},
     "output_type": "execute_result"
    }
   ],
   "source": [
    "df.shape"
   ]
  },
  {
   "cell_type": "code",
   "execution_count": 7,
   "metadata": {},
   "outputs": [
    {
     "data": {
      "text/plain": [
       "<bound method NDFrame.describe of                      ID                                             Entity  \\\n",
       "0                    id                                        description   \n",
       "1     21181060741374444                                                      \n",
       "2     21181060741360357                                                      \n",
       "3     21181060741360356  The Toppu Mini Bowl is part of the popular Top...   \n",
       "4     21181060741360355                                                      \n",
       "...                 ...                                                ...   \n",
       "4996  91620173664083654                                                      \n",
       "4997  91620173664083653                                                      \n",
       "4998  91620173664083651                                                      \n",
       "4999  91620173664083644                                                      \n",
       "5000  91620173664083642                                                      \n",
       "\n",
       "                              Sentiment      Content  \n",
       "0                                 title  repin_count  \n",
       "1                                   NaN            0  \n",
       "2                                   NaN            0  \n",
       "3     Toppu Mini Bowl in Caramel / Rose            0  \n",
       "4                                     𐀔            0  \n",
       "...                                 ...          ...  \n",
       "4996                                NaN            3  \n",
       "4997                                NaN            3  \n",
       "4998                                NaN            6  \n",
       "4999                                NaN            3  \n",
       "5000                                NaN            4  \n",
       "\n",
       "[5001 rows x 4 columns]>"
      ]
     },
     "execution_count": 7,
     "metadata": {},
     "output_type": "execute_result"
    }
   ],
   "source": [
    "df.describe"
   ]
  },
  {
   "cell_type": "code",
   "execution_count": 8,
   "metadata": {},
   "outputs": [
    {
     "data": {
      "text/plain": [
       "ID              0\n",
       "Entity          3\n",
       "Sentiment    3494\n",
       "Content         0\n",
       "dtype: int64"
      ]
     },
     "execution_count": 8,
     "metadata": {},
     "output_type": "execute_result"
    }
   ],
   "source": [
    "df.isnull().sum()"
   ]
  },
  {
   "cell_type": "code",
   "execution_count": 9,
   "metadata": {},
   "outputs": [],
   "source": [
    "df.dropna(axis=0, inplace=True)"
   ]
  },
  {
   "cell_type": "code",
   "execution_count": 10,
   "metadata": {},
   "outputs": [
    {
     "data": {
      "text/plain": [
       "ID           0\n",
       "Entity       0\n",
       "Sentiment    0\n",
       "Content      0\n",
       "dtype: int64"
      ]
     },
     "execution_count": 10,
     "metadata": {},
     "output_type": "execute_result"
    }
   ],
   "source": [
    "df.isnull().sum()"
   ]
  },
  {
   "cell_type": "code",
   "execution_count": 14,
   "metadata": {},
   "outputs": [
    {
     "data": {
      "text/plain": [
       "np.int64(0)"
      ]
     },
     "execution_count": 14,
     "metadata": {},
     "output_type": "execute_result"
    }
   ],
   "source": [
    "df.duplicated().sum()"
   ]
  },
  {
   "cell_type": "code",
   "execution_count": 17,
   "metadata": {},
   "outputs": [
    {
     "data": {
      "text/plain": [
       "np.int64(0)"
      ]
     },
     "execution_count": 17,
     "metadata": {},
     "output_type": "execute_result"
    }
   ],
   "source": [
    "df.drop_duplicates(inplace=True)\n",
    "df.duplicated().sum()"
   ]
  },
  {
   "cell_type": "code",
   "execution_count": 18,
   "metadata": {},
   "outputs": [
    {
     "data": {
      "text/plain": [
       "(1507, 4)"
      ]
     },
     "execution_count": 18,
     "metadata": {},
     "output_type": "execute_result"
    }
   ],
   "source": [
    "df.shape"
   ]
  },
  {
   "cell_type": "code",
   "execution_count": 25,
   "metadata": {},
   "outputs": [
    {
     "data": {
      "text/plain": [
       "Content\n",
       "1              210\n",
       "2              201\n",
       "0              185\n",
       "3              178\n",
       "4              141\n",
       "5              117\n",
       "6               93\n",
       "8               69\n",
       "7               55\n",
       "10              42\n",
       "11              31\n",
       "9               26\n",
       "12              24\n",
       "13              18\n",
       "14              15\n",
       "15              15\n",
       "20              10\n",
       "16               9\n",
       "17               8\n",
       "18               7\n",
       "21               4\n",
       "23               4\n",
       "35               3\n",
       "22               3\n",
       "25               3\n",
       "29               2\n",
       "28               2\n",
       "26               2\n",
       "36               2\n",
       "19               2\n",
       "27               2\n",
       "24               1\n",
       "97               1\n",
       "130              1\n",
       "75               1\n",
       "54               1\n",
       "107              1\n",
       "59               1\n",
       "93               1\n",
       "30               1\n",
       "42               1\n",
       "38               1\n",
       "repin_count      1\n",
       "179              1\n",
       "95               1\n",
       "34               1\n",
       "33               1\n",
       "80               1\n",
       "31               1\n",
       "45               1\n",
       "40               1\n",
       "57               1\n",
       "111              1\n",
       "56               1\n",
       "280              1\n",
       "Name: count, dtype: int64"
      ]
     },
     "execution_count": 25,
     "metadata": {},
     "output_type": "execute_result"
    }
   ],
   "source": [
    "\n",
    "Content_counts = df['Content'].value_counts()\n",
    "Content_counts"
   ]
  },
  {
   "cell_type": "code",
   "execution_count": 37,
   "metadata": {},
   "outputs": [
    {
     "data": {
      "image/png": "[encoded data removed]",
      "text/plain": [
       "<Figure size 1200x600 with 1 Axes>"
      ]
     },
     "metadata": {},
     "output_type": "display_data"
    }
   ],
   "source": [
    "plt.figure(figsize=(12, 6))\n",
    "Content_counts.plot(kind='bar', color=['red', 'green', 'yellow', 'blue'])\n",
    "plt.title('Content')\n",
    "plt.xlabel('Content')\n",
    "plt.ylabel('Entity')\n",
    "\n",
    "plt.show()"
   ]
  },
  {
   "cell_type": "code",
   "execution_count": 34,
   "metadata": {},
   "outputs": [
    {
     "data": {
      "text/plain": [
       "Series([], Name: count, dtype: int64)"
      ]
     },
     "execution_count": 34,
     "metadata": {},
     "output_type": "execute_result"
    }
   ],
   "source": [
    "\n",
    "brand_data = df[df['Content'].str.contains('Pinterest', case=False)]\n",
    "brand_Content_counts = brand_data['Content'].value_counts()\n",
    "brand_Content_counts"
   ]
  },
  {
   "cell_type": "code",
   "execution_count": 39,
   "metadata": {},
   "outputs": [
    {
     "data": {
      "image/png": "[encoded data removed]",
      "text/plain": [
       "<Figure size 600x600 with 1 Axes>"
      ]
     },
     "metadata": {},
     "output_type": "display_data"
    }
   ],
   "source": [
    "\n",
    "plt.figure(figsize=(6, 6))\n",
    "plt.pie(brand_Content_counts, labels=brand_Content_counts.index)\n",
    "plt.title('Content Distribution for Pinterest')\n",
    "plt.show()"
   ]
  }
 ],
 "metadata": {
  "kernelspec": {
   "display_name": "Python 3",
   "language": "python",
   "name": "python3"
  },
  "language_info": {
   "codemirror_mode": {
    "name": "ipython",
    "version": 3
   },
   "file_extension": ".py",
   "mimetype": "text/x-python",
   "name": "python",
   "nbconvert_exporter": "python",
   "pygments_lexer": "ipython3",
   "version": "3.11.9"
  }
 },
 "nbformat": 4,
 "nbformat_minor": 2
}
